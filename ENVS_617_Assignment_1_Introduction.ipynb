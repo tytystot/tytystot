{
  "nbformat": 4,
  "nbformat_minor": 0,
  "metadata": {
    "colab": {
      "name": "ENVS_617_Assignment_1_Introduction.ipynb",
      "provenance": [],
      "collapsed_sections": [],
      "include_colab_link": true
    },
    "kernelspec": {
      "name": "python3",
      "display_name": "Python 3"
    },
    "language_info": {
      "name": "python"
    }
  },
  "cells": [
    {
      "cell_type": "markdown",
      "metadata": {
        "id": "view-in-github",
        "colab_type": "text"
      },
      "source": [
        "<a href=\"https://colab.research.google.com/github/tytystot/tytystot/blob/master/ENVS_617_Assignment_1_Introduction.ipynb\" target=\"_parent\"><img src=\"https://colab.research.google.com/assets/colab-badge.svg\" alt=\"Open In Colab\"/></a>"
      ]
    },
    {
      "cell_type": "markdown",
      "metadata": {
        "id": "yqcDj_kuXdfL"
      },
      "source": [
        "# Assignment 1: Introduction\n",
        "\n",
        "This is a simple assignment to make sure you've got GitHub and Colab set up."
      ]
    },
    {
      "cell_type": "code",
      "metadata": {
        "id": "k7bRhZlwXZbs",
        "outputId": "98069454-0d72-47e6-d372-6f2fa709a48f",
        "colab": {
          "base_uri": "https://localhost:8080/"
        }
      },
      "source": [
        "# Fill in the information below and run this cell so that the output is printed below.\n",
        "my_name = \"Tyler\"\n",
        "todays_date = \"9/8/21\"\n",
        "print(f\"Hello {my_name}! Today is {todays_date}.\")"
      ],
      "execution_count": 1,
      "outputs": [
        {
          "output_type": "stream",
          "name": "stdout",
          "text": [
            "Hello Tyler! Today is 9/8/21.\n"
          ]
        }
      ]
    },
    {
      "cell_type": "code",
      "metadata": {
        "id": "Z-JNE56hYE3a"
      },
      "source": [
        "# Now, commit your changes back to the GitHub repository by going to File > Save a copy in GitHub."
      ],
      "execution_count": null,
      "outputs": []
    }
  ]
}